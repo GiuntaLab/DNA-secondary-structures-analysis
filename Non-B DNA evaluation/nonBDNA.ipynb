{
 "cells": [
  {
   "cell_type": "markdown",
   "metadata": {},
   "source": [
    "#### Detection of Non-B DNA forming motifs in the peri/centromeric region "
   ]
  },
  {
   "cell_type": "markdown",
   "metadata": {},
   "source": [
    "Make sure you have the following ready to run this notebook - \n",
    "1. A .bed file containing the genomic coordinates of the regions of interest\n",
    "2. The .fasta file of the genome of interest containing the DNA sequences of the region of interest\n",
    "3. non-B DNA Motif Search Tool (nBMST) - https://github.com/abcsFrederick/non-B_gfa"
   ]
  },
  {
   "cell_type": "code",
   "execution_count": 5,
   "metadata": {},
   "outputs": [],
   "source": [
    "#importing necessary libraries\n",
    "import pandas as pd\n",
    "from Bio import SeqIO"
   ]
  },
  {
   "cell_type": "code",
   "execution_count": 2,
   "metadata": {},
   "outputs": [],
   "source": [
    "# Reading the .bed file with the genomic annotation information of the region of interest\n",
    "bed = pd.read_csv('CHM13_centric_transition.bed', sep = '\\t') \n",
    "# This is an example. Change the path according to your system."
   ]
  },
  {
   "cell_type": "code",
   "execution_count": 6,
   "metadata": {},
   "outputs": [],
   "source": [
    "# Function to read the FASTA file\n",
    "def read_fasta_file(fasta_path):\n",
    "    return {record.id: str(record.seq) for record in SeqIO.parse(fasta_path, \"fasta\")}\n",
    "\n",
    "fasta_path = \"./ALLCHROMOSOMES/CHM13.fasta\"\n",
    "genome_sequences = read_fasta_file(fasta_path)"
   ]
  },
  {
   "cell_type": "code",
   "execution_count": null,
   "metadata": {},
   "outputs": [],
   "source": [
    "# Function to extract and save sequences\n",
    "def extract_and_save_sequences(df, genome_sequences, output_path):\n",
    "    with open(output_path, \"w\") as output_file:\n",
    "        for index, row in df.iterrows():\n",
    "            chrom_id = row[\"Chromosome\"]\n",
    "            start_pos = row[\"Start\"]\n",
    "            end_pos = row[\"End\"]\n",
    "            region = row[\"Region\"]\n",
    "            \n",
    "            if chrom_id not in genome_sequences:\n",
    "                print(f\"Chromosome {chrom_id} not found in the FASTA file.\")\n",
    "                continue\n",
    "            \n",
    "            seq = genome_sequences[chrom_id][start_pos:end_pos]            \n",
    "            output_file.write(f\">{chrom_id}_{start_pos}_{end_pos}_{region}\\n\")\n",
    "            output_file.write(str(seq) + \"\\n\\n\")\n",
    "\n",
    "output_path = \"extracted_sequences.fasta\"\n",
    "extract_and_save_sequences(df=bed, genome_sequences=genome_sequences, output_path=output_path)"
   ]
  },
  {
   "cell_type": "markdown",
   "metadata": {},
   "source": [
    "Utilize the following command on the terminal to run the nBDST v2.0 tool"
   ]
  },
  {
   "cell_type": "code",
   "execution_count": null,
   "metadata": {},
   "outputs": [],
   "source": [
    "#./gfa -seq <input_fasta_filename> -out <output_file_prefix> [optional_switches]"
   ]
  },
  {
   "cell_type": "code",
   "execution_count": null,
   "metadata": {
    "vscode": {
     "languageId": "shellscript"
    }
   },
   "outputs": [],
   "source": [
    "mkdir output_folder\n",
    "./gfa -seq extracted_sequences.fasta -out ./output_folder/output"
   ]
  },
  {
   "cell_type": "markdown",
   "metadata": {},
   "source": [
    "The output will contain a .tsv file for each type of non-B DNA motif selected."
   ]
  }
 ],
 "metadata": {
  "kernelspec": {
   "display_name": "Python 3",
   "language": "python",
   "name": "python3"
  },
  "language_info": {
   "codemirror_mode": {
    "name": "ipython",
    "version": 3
   },
   "file_extension": ".py",
   "mimetype": "text/x-python",
   "name": "python",
   "nbconvert_exporter": "python",
   "pygments_lexer": "ipython3",
   "version": "3.11.3"
  }
 },
 "nbformat": 4,
 "nbformat_minor": 2
}
