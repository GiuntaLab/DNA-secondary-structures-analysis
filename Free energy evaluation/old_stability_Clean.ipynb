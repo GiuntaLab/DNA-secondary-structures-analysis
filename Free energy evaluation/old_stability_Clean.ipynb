{
 "cells": [
  {
   "cell_type": "code",
   "execution_count": 2,
   "metadata": {},
   "outputs": [],
   "source": [
    "#Importing all the necessary libraries\n",
    "import pandas as pd\n",
    "from Bio import SeqIO\n",
    "from functions import *\n",
    "import os\n",
    "import time\n",
    "import subprocess"
   ]
  },
  {
   "cell_type": "code",
   "execution_count": 93,
   "metadata": {},
   "outputs": [],
   "source": [
    "BASE_DIR = os.getcwd()"
   ]
  },
  {
   "cell_type": "markdown",
   "metadata": {},
   "source": [
    "### Make sure you have the following files ready - \n",
    "1. A proper .bed file containing the genomic coordinates of the regions of interest\n",
    "2. Fasta file/s containing the correct DNA sequences regarding the study"
   ]
  },
  {
   "cell_type": "code",
   "execution_count": 19,
   "metadata": {},
   "outputs": [],
   "source": [
    "bed = pd.read_csv('CHM13_centric_transition.bed', sep = '\\t') # This is an example. Please change the path according to your needs"
   ]
  },
  {
   "cell_type": "code",
   "execution_count": 20,
   "metadata": {},
   "outputs": [
    {
     "name": "stdout",
     "output_type": "stream",
     "text": [
      "   Chromosome      Start        End              Region\n",
      "0        chr1  145640216  145641216  centric_transition\n",
      "1        chr1  146700594  146701594  centric_transition\n",
      "2        chr1  146892080  146893080  centric_transition\n",
      "3        chr1  146328948  146329948  centric_transition\n",
      "4        chr1  144850695  144851695  centric_transition\n",
      "5       chr10   45192297   45193297  centric_transition\n",
      "6       chr10   44947068   44948068  centric_transition\n",
      "7       chr10   43812043   43813043  centric_transition\n",
      "8       chr10   43694666   43695666  centric_transition\n",
      "9       chr10   44463655   44464655  centric_transition\n",
      "10      chr11   56267648   56268648  centric_transition\n",
      "11      chr11   58041871   58042871  centric_transition\n",
      "12      chr11   57009309   57010309  centric_transition\n",
      "13      chr11   58446528   58447528  centric_transition\n",
      "14      chr11   58096330   58097330  centric_transition\n",
      "15      chr12   39498897   39499897  centric_transition\n",
      "16      chr12   39405636   39406636  centric_transition\n",
      "17      chr12   40622138   40623138  centric_transition\n",
      "18      chr12   38871626   38872626  centric_transition\n",
      "19      chr12   40030103   40031103  centric_transition\n"
     ]
    }
   ],
   "source": [
    "df = random_sequence_position_generator(length = 1000, number = 5, bed_file = bed) # Select the sequence length and the number of sequences"
   ]
  },
  {
   "cell_type": "code",
   "execution_count": 21,
   "metadata": {},
   "outputs": [],
   "source": [
    "#df.to_csv(\"centric_transition_region_positions.csv\", index=False) #save it to a csv file"
   ]
  },
  {
   "cell_type": "markdown",
   "metadata": {},
   "source": [
    "Get the DNA sequences from the fasta file"
   ]
  },
  {
   "cell_type": "code",
   "execution_count": 36,
   "metadata": {},
   "outputs": [
    {
     "name": "stdout",
     "output_type": "stream",
     "text": [
      "  Chromosome      Start        End              Region  \\\n",
      "0       chr1  145640216  145641216  centric_transition   \n",
      "1       chr1  146700594  146701594  centric_transition   \n",
      "2       chr1  146892080  146893080  centric_transition   \n",
      "3       chr1  146328948  146329948  centric_transition   \n",
      "4       chr1  144850695  144851695  centric_transition   \n",
      "5      chr10   45192297   45193297  centric_transition   \n",
      "6      chr10   44947068   44948068  centric_transition   \n",
      "7      chr10   43812043   43813043  centric_transition   \n",
      "8      chr10   43694666   43695666  centric_transition   \n",
      "9      chr10   44463655   44464655  centric_transition   \n",
      "\n",
      "                                            Sequence  \n",
      "0  CGCTTCTAGGCCCTTTTAAGAGAACAGAACTAGCAATGAATATTTT...  \n",
      "1  GTAATGAAACTGTAGTCTCAGCTGGAAGCCTAGACATGAAATGGGT...  \n",
      "2  ACCTGACCCTTGACCAGGGGATGCTGGGTTAACATGACTAAGGGTT...  \n",
      "3  ATGGCTTAAAATATCATGTCATGAGTAGACAACTTCCAATCCTAGT...  \n",
      "4  TCCTAAGTTTTAATTAAACGTTTAAACTAAAAACTGTACTCCTAGC...  \n",
      "5  TCGCCTGCAAAGGGCTTAGCTTCTCATGACAGCACTTAAAGCATTT...  \n",
      "6  TTTTCACAGCTGTGTCTGTGCTAAATTAAAAAGAACAGAAAAACAA...  \n",
      "7  AGCTCTCTCCCCAGGTACCCCCGCGGCAGCCGTGGGGGTGGCCTTC...  \n",
      "8  TGCTAAGATTCTTGTTTAAATAGAACTTTAAAAAAGCTAATGTTTA...  \n",
      "9  TATATCCACTTGCTGAATTGATCCCTTTATCATTATATAGTGACCC...  \n"
     ]
    }
   ],
   "source": [
    "df_with_sequences = get_sequences(positions_df=df, fasta_file='CHM13.fasta')"
   ]
  },
  {
   "cell_type": "code",
   "execution_count": 37,
   "metadata": {},
   "outputs": [],
   "source": [
    "#df_with_sequences.to_csv(\"centric_transition_positions_and_sequences.csv\", index=False) #save it to a csv file"
   ]
  },
  {
   "cell_type": "markdown",
   "metadata": {},
   "source": [
    "Convert the DNA sequences to fasta files"
   ]
  },
  {
   "cell_type": "code",
   "execution_count": 98,
   "metadata": {},
   "outputs": [],
   "source": [
    "seqDF = pd.read_csv(\"centric_transition_positions_and_sequences.csv\")\n",
    "file_path = \"./input_seqs/\"\n",
    "os.makedirs(file_path, exist_ok=True)\n",
    "file_names = []\n",
    "\n",
    "for index, row in seqDF.iterrows():\n",
    "    chromosome = row.iloc[0]\n",
    "    start = row.iloc[1]\n",
    "    end = row.iloc[2]\n",
    "    region = row.iloc[3]\n",
    "    sequence_id = f\"{chromosome}_{region}_{start}_{end}\"\n",
    "    sequences = {sequence_id: row.iloc[4]}\n",
    "\n",
    "    region_path = os.path.join(file_path, region)\n",
    "    os.makedirs(region_path, exist_ok=True)\n",
    "    seq_filename = f\"{region}/{sequence_id}.fa\"\n",
    "    file_names.append(seq_filename)\n",
    "    write_fasta(file_path+seq_filename, sequences)\n",
    "\n",
    "    os.makedirs(f\"./output/{region}/\", exist_ok=True)\n",
    "\n",
    "seqDF['File'] = file_names"
   ]
  },
  {
   "cell_type": "markdown",
   "metadata": {},
   "source": [
    "Running RNAFOLD"
   ]
  },
  {
   "cell_type": "code",
   "execution_count": null,
   "metadata": {},
   "outputs": [],
   "source": [
    "BASE_DIR2 = os.getcwd()\n",
    "command = \"RNAfold -d2 -g --noLP -P dna_mathews2004.par --noconv <\"\n",
    "prev_region = \"\"\n",
    "\n",
    "for index,row in seqDF.iterrows():\n",
    "    print(f\"{row.iloc[5]} started at {time.asctime()}\")\n",
    "    region = row.iloc[3]\n",
    "\n",
    "    if prev_region != region:\n",
    "        os.chdir(f\"{BASE_DIR2}/output/{region}\")\n",
    "\n",
    "    filename = row.iloc[5]\n",
    "    input_seq_file = f\"../../input_seqs/{filename}\"\n",
    "    output_file = f\"{row.iloc[0]}_{row.iloc[3]}_{row.iloc[1]}_{row.iloc[2]}.out\"\n",
    "\n",
    "    fc = command + f\"{input_seq_file} >  {output_file}\"\n",
    "    os.system(fc)\n",
    "\n",
    "    time.sleep(8)\n",
    "    seqDF.loc[index, \"status\"] = 1\n",
    "    seqDF.to_csv(f\"{BASE_DIR2}/status.csv\", index=False)\n",
    "\n",
    "    prev_region = region\n",
    "    print(row.iloc[5], \"done at\",  time.asctime())"
   ]
  },
  {
   "cell_type": "markdown",
   "metadata": {},
   "source": [
    "Interpreting the results"
   ]
  },
  {
   "cell_type": "code",
   "execution_count": null,
   "metadata": {},
   "outputs": [],
   "source": [
    "val_list = ['mfe','fete', 'ed']\n",
    "for l in val_list:\n",
    "    seqDF[l] = \"\"\n",
    "\n",
    "emptylist=[]\n",
    "for index, row in seqDF.iterrows():\n",
    "    filepath = f\"./output/{seqDF['region'][index]}/{row.iloc[0]}_{row.iloc[3]}_{row.iloc[1]}_{row.iloc[2]}.out\"\n",
    "    with open(filepath, 'r') as file:\n",
    "        file_contents = file.read()\n",
    "\n",
    "    arr = []\n",
    "    if file_contents==\"\":\n",
    "        emptylist.append(index)\n",
    "    else:\n",
    "        arr = read_output(file_contents)\n",
    "        for index, val in enumerate(val_list):\n",
    "            seqDF[val][index] = arr[index]\n",
    "\n",
    "emptylist"
   ]
  },
  {
   "cell_type": "code",
   "execution_count": null,
   "metadata": {},
   "outputs": [],
   "source": [
    "seqDF.to_csv(\"Final_Output.csv\", index = False)"
   ]
  }
 ],
 "metadata": {
  "kernelspec": {
   "display_name": "Python 3",
   "language": "python",
   "name": "python3"
  },
  "language_info": {
   "codemirror_mode": {
    "name": "ipython",
    "version": 3
   },
   "file_extension": ".py",
   "mimetype": "text/x-python",
   "name": "python",
   "nbconvert_exporter": "python",
   "pygments_lexer": "ipython3",
   "version": "3.11.3"
  }
 },
 "nbformat": 4,
 "nbformat_minor": 2
}
