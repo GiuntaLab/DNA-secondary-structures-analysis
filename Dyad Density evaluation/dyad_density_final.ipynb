{
 "cells": [
  {
   "cell_type": "code",
   "execution_count": null,
   "metadata": {},
   "outputs": [],
   "source": [
    "# Import necessary modules\n",
    "import os\n",
    "import re\n",
    "import pandas as pd\n",
    "from Bio import SeqIO\n",
    "import time\n",
    "import subprocess"
   ]
  },
  {
   "cell_type": "code",
   "execution_count": null,
   "metadata": {},
   "outputs": [],
   "source": [
    "# Function to extract a DNA sequence from a specified chromosome and range\n",
    "def extract_dna_sequence(chromosome, start, end):\n",
    "    fasta_file = 'CHM13.fasta'  # Name of the FASTA file containing the sequences\n",
    "    for record in SeqIO.parse(fasta_file, \"fasta\"):\n",
    "        if record.id == chromosome:\n",
    "            return str(record.seq[start:end])\n",
    "    # Raise an error if the chromosome is not found\n",
    "    raise ValueError(f\"Chromosome {chromosome} not found in the FASTA file.\")\n",
    "\n",
    "# Function to write sequences to a FASTA file\n",
    "def write_fasta(file_name, sequences):\n",
    "    with open(file_name, \"w\") as fasta_file:\n",
    "        # Iterate over each sequence ID and sequence pair\n",
    "        for seq_id, sequence in sequences.items():\n",
    "            # Write the sequence to the file in FASTA format\n",
    "            fasta_file.write(f\">{seq_id}\\n{sequence}\\n\")"
   ]
  },
  {
   "cell_type": "code",
   "execution_count": null,
   "metadata": {},
   "outputs": [],
   "source": [
    "# Read the BED file containing sequence data into a DataFrame\n",
    "seqDF = pd.read_csv('CHM13_centric_transition.bed', sep='\\t')\n",
    "#This is an example. Change the path according to your system"
   ]
  },
  {
   "cell_type": "code",
   "execution_count": null,
   "metadata": {},
   "outputs": [],
   "source": [
    "file_path = \"./input/\"\n",
    "# Initialize an empty DataFrame to store status information\n",
    "statusDF = pd.DataFrame(\n",
    "    {\n",
    "        \"seq_id\": [],\n",
    "        \"region\": [],\n",
    "        \"file\": [],\n",
    "        \"status\": [],\n",
    "    }\n",
    ")\n",
    "\n",
    "# Iterate over each row in the sequence DataFrame\n",
    "for index in range(0, len(seqDF)):\n",
    "    start = seqDF[\"Start\"][index]\n",
    "    end = seqDF[\"End\"][index]\n",
    "    chromosome = seqDF[\"Chromosome\"][index]\n",
    "    region = seqDF[\"Region\"][index]\n",
    "    sequence_id = f\"{chromosome}_{region}__{start}_{end}\" # Generate a unique sequence ID\n",
    "    # Extract the DNA sequence using the provided start, end, and chromosome\n",
    "    sequence = extract_dna_sequence(chromosome=chromosome, start=start, end=end)\n",
    "    sequences = {sequence_id: sequence}  # Create a dictionary with the sequence\n",
    "\n",
    "    # Define the output FASTA file name\n",
    "    seq_filename = f\"{sequence_id}.fasta\"\n",
    "    # Write the extracted sequence to a FASTA file\n",
    "    write_fasta(file_path + seq_filename, sequences)\n",
    "\n",
    "    # Create a new row in the status DataFrame with the sequence information\n",
    "    new_row = pd.DataFrame(\n",
    "        {\n",
    "            \"seq_id\": [sequence_id],\n",
    "            \"region\": [region],\n",
    "            \"file\": [seq_filename],\n",
    "        }\n",
    "    )\n",
    "\n",
    "    statusDF = pd.concat([statusDF, new_row], ignore_index=True)"
   ]
  },
  {
   "cell_type": "code",
   "execution_count": null,
   "metadata": {},
   "outputs": [],
   "source": [
    "# Save the status DataFrame to a CSV file\n",
    "statusDF.to_csv('status_palindrome.csv', index=False)"
   ]
  },
  {
   "cell_type": "markdown",
   "metadata": {},
   "source": [
    "Running EMBOSS Palindrome"
   ]
  },
  {
   "cell_type": "code",
   "execution_count": null,
   "metadata": {},
   "outputs": [],
   "source": [
    "# Function to construct the palindrome command for a given input file\n",
    "def palindrome_command(input_file: str):\n",
    "    command = f\"palindrome -sequence {input_file} -minpallen 5 -maxpallen 100 -gaplimit 20 -nummismatches 0 -overlap\"\n",
    "    return command\n",
    "\n",
    "# Function to calculate the difference between two numbers in a string\n",
    "def get_difference(input_string):\n",
    "    first_double_underscore = input_string.index(\"__\")  # Find the first double underscore\n",
    "    next_underscore = input_string.index(\"_\", first_double_underscore + 2)  # Find the next underscore\n",
    "    first_number_str = input_string[first_double_underscore + 2:next_underscore]  # Extract the first number\n",
    "    second_number_str = input_string[next_underscore + 1:]  # Extract the second number\n",
    "    first_number = int(first_number_str)\n",
    "    second_number = int(second_number_str)\n",
    "    difference = second_number - first_number\n",
    "    return difference"
   ]
  },
  {
   "cell_type": "code",
   "execution_count": null,
   "metadata": {},
   "outputs": [],
   "source": [
    "startIN = 0\n",
    "endIN = len(statusDF)\n",
    "no = endIN - startIN\n",
    "# Change the current working directory to the output directory\n",
    "os.chdir(f\"./output/\")\n",
    "\n",
    "total_seq_length = 0\n",
    "# Calculate the total sequence length from the seq_id column in the status DataFrame\n",
    "for seq_str in statusDF['seq_id']:\n",
    "    total_seq_length += get_difference(seq_str)\n",
    "\n",
    "for index in range(startIN, endIN):\n",
    "    # Open the log file in append mode\n",
    "    with open(\"./log.txt\", 'a') as file:\n",
    "        # Write the start of the process to the log file\n",
    "        file.write(str(f\"{index}: {statusDF['seq_id'][index]}: {time.asctime()} [BEGIN]\") + '\\n')\n",
    "    \n",
    "    region = statusDF['region'][index]\n",
    "    filename = statusDF[\"file\"][index]\n",
    "    input_seq_file = f\"../input/{filename}\" \n",
    "\n",
    "    # Generate the palindrome command and add the output file argument\n",
    "    fc = palindrome_command(input_seq_file) + f\" -outfile {filename.replace('.fasta', '.palindrome')}\"\n",
    "\n",
    "    # Execute the palindrome command as a subprocess\n",
    "    process = subprocess.Popen(fc, shell=True)\n",
    "    process.wait()  # Wait for the process to complete\n",
    "\n",
    "    if process.returncode == 0:  # Check if the process completed successfully\n",
    "        print(index, statusDF['seq_id'][index], time.asctime())\n",
    "        # Write the end of the process to the log file\n",
    "        with open(\"./log.txt\", 'a') as file:\n",
    "            file.write(str(f\"{index}: {statusDF['seq_id'][index]}: {time.asctime()} [END]\") + '\\n')\n",
    "    else:\n",
    "        print(index, statusDF['seq_id'][index], time.asctime() + \" Command failed with return code:\", process.returncode)"
   ]
  },
  {
   "cell_type": "markdown",
   "metadata": {},
   "source": [
    "Reading the output"
   ]
  },
  {
   "cell_type": "code",
   "execution_count": null,
   "metadata": {},
   "outputs": [],
   "source": [
    "# Function to extract two numbers from a string using regex\n",
    "def extract_numbers(input_str):\n",
    "    pattern = r'(\\d+).*?(\\d+)'\n",
    "    match = re.match(pattern, input_str)\n",
    "    if match:\n",
    "        numbers = (int(match.group(1)), int(match.group(2)))\n",
    "        return numbers\n",
    "    else:\n",
    "        return None\n",
    "\n",
    "# Function to extract sequence length from a string using regex\n",
    "def extract_sequence_length(input_str):\n",
    "    pattern = r'Sequence length is: (\\d+)'\n",
    "    match = re.search(pattern, input_str)\n",
    "    if match:\n",
    "        sequence_length = int(match.group(1))\n",
    "        return sequence_length\n",
    "    else:\n",
    "        return None"
   ]
  },
  {
   "cell_type": "code",
   "execution_count": null,
   "metadata": {},
   "outputs": [],
   "source": [
    "master = pd.read_csv('CHM13_centric_transition.bed', sep='\\t')\n",
    "master['ds_occupancy'] = ''\n",
    "master['ds_nucleotides'] = ''\n",
    "master['sequence_length'] = ''\n",
    "master['palindrome_count'] = ''\n",
    "\n",
    "# Iterate over each index in the status DataFrame\n",
    "for ind in range(0, len(statusDF)):\n",
    "    filepath = f\"{statusDF['seq_id'][ind]}.palindrome\"  # Define the palindrome file path\n",
    "    lines = []\n",
    "    # Read the contents of the palindrome file\n",
    "    with open(filepath, 'r') as file:\n",
    "        for line in file:\n",
    "            lines.append(line.strip())\n",
    "\n",
    "    total_palindromes = int((len(lines) - 3 - 12) / 4)  # Calculate the total number of palindromes\n",
    "    sequence_length = extract_sequence_length(lines[1])  # Extract the sequence length\n",
    "\n",
    "    palrecords = []\n",
    "    for index in range(0, total_palindromes):\n",
    "        palstr = lines[12 + (4 * index)]  # Get the palindrome string\n",
    "        palrecords.append(extract_numbers(palstr))  # Extract the palindrome numbers\n",
    "\n",
    "    bp_count = 0\n",
    "    # Calculate the total base pair count from the palindrome records\n",
    "    for pal in palrecords:\n",
    "        bp_count += (pal[1] - pal[0] + 1) * 2\n",
    "\n",
    "    occupation_percent = bp_count / sequence_length  # Calculate the ds occupancy\n",
    "\n",
    "    # Update the master DataFrame with the calculated values\n",
    "    master.at[ind, 'palindrome_count'] = total_palindromes\n",
    "    master.at[ind, 'ds_nucleotides'] = bp_count\n",
    "    master.at[ind, 'sequence_length'] = sequence_length\n",
    "    master.at[ind, 'ds_occupancy'] = occupation_percent"
   ]
  },
  {
   "cell_type": "code",
   "execution_count": null,
   "metadata": {},
   "outputs": [],
   "source": [
    "# Save the master DataFrame to a CSV file\n",
    "master.to_csv('Dyad_density_output.csv', index=False)"
   ]
  }
 ],
 "metadata": {
  "kernelspec": {
   "display_name": "Python 3",
   "language": "python",
   "name": "python3"
  },
  "language_info": {
   "codemirror_mode": {
    "name": "ipython",
    "version": 3
   },
   "file_extension": ".py",
   "mimetype": "text/x-python",
   "name": "python",
   "nbconvert_exporter": "python",
   "pygments_lexer": "ipython3",
   "version": "3.11.3"
  }
 },
 "nbformat": 4,
 "nbformat_minor": 2
}
