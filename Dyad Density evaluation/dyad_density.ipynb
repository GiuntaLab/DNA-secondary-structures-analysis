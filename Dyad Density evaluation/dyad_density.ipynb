{
 "cells": [
  {
   "cell_type": "markdown",
   "metadata": {},
   "source": [
    "### Dyad Density Evaluation"
   ]
  },
  {
   "cell_type": "markdown",
   "metadata": {},
   "source": [
    "In this notebook, we measure the density of short dyads in the peri/centromeric region using the tool Palindrome in the European Molecular Biology Open Software Suite (EMBOSS). Please download this tool from the following link - http://emboss.open-bio.org/html/adm/ch01s01.html "
   ]
  },
  {
   "cell_type": "markdown",
   "metadata": {},
   "source": [
    "We will need the following to run this notebook - \n",
    "1. A .bed file containing the annotation information of the region/s of interest\n",
    "2. A .fasta file containing the genetic information from the genome of interest\n",
    "3. Palindrome from EMBOSS"
   ]
  },
  {
   "cell_type": "code",
   "execution_count": 4,
   "metadata": {},
   "outputs": [],
   "source": [
    "# Importing necessary libraries\n",
    "import os\n",
    "import re\n",
    "import pandas as pd\n",
    "from Bio import SeqIO"
   ]
  },
  {
   "cell_type": "code",
   "execution_count": 5,
   "metadata": {},
   "outputs": [],
   "source": [
    "BASE_DIR = os.getcwd()\n",
    "genome_dir = \"./ALLCHROMOSOMES\"\n",
    "\n",
    "def chr_path(chromosome_number) -> str:\n",
    "    return f'{genome_dir}/{chromosome_number}.fasta'"
   ]
  },
  {
   "cell_type": "markdown",
   "metadata": {},
   "source": [
    "#### Input fasta generation"
   ]
  },
  {
   "cell_type": "code",
   "execution_count": 7,
   "metadata": {},
   "outputs": [],
   "source": [
    "seqDF = pd.read_csv('CHM13_centric_transition.bed', sep = '\\t') # This is an example. Change the path according to your needs."
   ]
  },
  {
   "cell_type": "code",
   "execution_count": null,
   "metadata": {},
   "outputs": [],
   "source": [
    "# Function to extract sequence from a FASTA file based on start and end positions\n",
    "def extract_sequence_from_fasta(fasta_file, chromosome, start, end):\n",
    "    for record in SeqIO.parse(fasta_file, \"fasta\"):\n",
    "        if record.id == chromosome:\n",
    "            # Extract the substring (note: start and end are 1-based indices)\n",
    "            return str(record.seq[start-1:end])\n",
    "    return \"\"\n",
    "\n",
    "# Function to get the path of the FASTA file for a given chromosome\n",
    "def get_fasta_path(chromosome):\n",
    "    return f\"./ALLCHROMOSOMES/{chromosome}.fasta\"  # Update path as needed"
   ]
  },
  {
   "cell_type": "code",
   "execution_count": null,
   "metadata": {},
   "outputs": [],
   "source": [
    "seqDF['sequence'] = ''\n",
    "for index, row in seqDF.iterrows():\n",
    "    chromosome = row['Chromosome']\n",
    "    start = row['Start']\n",
    "    end = row['End']\n",
    "    \n",
    "    fasta_file = get_fasta_path(chromosome)\n",
    "    sequence = extract_sequence_from_fasta(fasta_file, chromosome, start, end)\n",
    "    \n",
    "    seqDF.at[index, 'sequence'] = sequence"
   ]
  },
  {
   "cell_type": "code",
   "execution_count": null,
   "metadata": {},
   "outputs": [],
   "source": [
    "def read_between_start_end(file_path, start_character, end_character):\n",
    "    start_character = start_character - 1\n",
    "    with open(file_path, 'r') as file:\n",
    "        # Move the file pointer to the starting character position\n",
    "        file.seek(start_character)\n",
    "\n",
    "        # Read and print the content between the given character positions\n",
    "        content_between_positions = file.read(end_character - start_character)\n",
    "        return content_between_positions"
   ]
  },
  {
   "cell_type": "code",
   "execution_count": 9,
   "metadata": {},
   "outputs": [],
   "source": [
    "for index in range(0, len(seqDF)):\n",
    "    start = seqDF['start'][index]\n",
    "    end = seqDF['stop'][index]\n",
    "    chromosome = seqDF['chr'][index]\n",
    "    seqDF.loc[index, 'sequence'] = read_between_start_end(chr_path(chromosome), start, end)"
   ]
  },
  {
   "cell_type": "code",
   "execution_count": null,
   "metadata": {},
   "outputs": [],
   "source": [
    "def write_fasta(file_name, sequences):\n",
    "    with open(file_name, \"w\") as fasta_file:\n",
    "        for seq_id, sequence in sequences.items():\n",
    "            fasta_file.write(f\">{seq_id}\\n{sequence}\\n\")"
   ]
  },
  {
   "cell_type": "code",
   "execution_count": 11,
   "metadata": {},
   "outputs": [],
   "source": [
    "file_path = \"../input/sequences/\"\n",
    "statusDF = pd.DataFrame(\n",
    "    {\n",
    "        \"seq_id\": [],\n",
    "        \"region\": [],\n",
    "        \"file\": [],\n",
    "        \"status\": [],\n",
    "    }\n",
    ")\n",
    "\n",
    "for index in range(0, len(seqDF)):\n",
    "    start = seqDF[\"Start\"][index]\n",
    "    end = seqDF[\"End\"][index]\n",
    "    chromosome = seqDF[\"Chromosome\"][index]\n",
    "    region = seqDF[\"Region\"][index]\n",
    "    sequence_id = f\"{chromosome}_{region}__{start}_{end}\"\n",
    "    sequences = {sequence_id: seqDF[\"Sequence\"][index]}\n",
    "\n",
    "    seq_filename = f\"{sequence_id}.fasta\"\n",
    "    write_fasta(file_path+seq_filename, sequences)\n",
    "\n",
    "    new_row = pd.DataFrame(\n",
    "        {\n",
    "            \"seq_id\": [sequence_id],\n",
    "            \"region\": [region],\n",
    "            \"file\": [seq_filename],\n",
    "        }\n",
    "    )\n",
    "    statusDF = pd.concat([statusDF, new_row], ignore_index=True)"
   ]
  },
  {
   "cell_type": "code",
   "execution_count": 12,
   "metadata": {},
   "outputs": [],
   "source": [
    "statusDF.to_csv(\"status_palindrome.csv\", index=False)"
   ]
  },
  {
   "cell_type": "markdown",
   "metadata": {},
   "source": [
    "#### Palindrome Generation"
   ]
  },
  {
   "cell_type": "code",
   "execution_count": null,
   "metadata": {},
   "outputs": [],
   "source": [
    "def palindrome_command(input_file:str):\n",
    "    \"\"\"\n",
    "    input_file: path/input.fasta\n",
    "    \"\"\"\n",
    "    command = f\"palindrome -sequence {input_file} -minpallen 5 -maxpallen 100 -gaplimit 20 -nummismatches 0 -overlap\"\n",
    "    return command"
   ]
  },
  {
   "cell_type": "code",
   "execution_count": 15,
   "metadata": {},
   "outputs": [],
   "source": [
    "#os.chdir(f\"/home/brook/Projects/automation/palindrome-reports/output\")"
   ]
  },
  {
   "cell_type": "code",
   "execution_count": 33,
   "metadata": {},
   "outputs": [],
   "source": [
    "def get_difference(input_string):\n",
    "    first_double_underscore = input_string.index(\"__\") # Find the position of the first \"__\" and the next \"_\"\n",
    "    next_underscore = input_string.index(\"_\", first_double_underscore + 2)\n",
    "\n",
    "    first_number_str = input_string[first_double_underscore + 2:next_underscore] # Extract the numbers as strings\n",
    "    second_number_str = input_string[next_underscore + 1:]\n",
    "\n",
    "    first_number = int(first_number_str) # Converting the extracted strings to integers\n",
    "    second_number = int(second_number_str)\n",
    "\n",
    "    difference = second_number - first_number # Calculate the difference\n",
    "    return difference"
   ]
  },
  {
   "cell_type": "code",
   "execution_count": 69,
   "metadata": {},
   "outputs": [],
   "source": [
    "# Function to extract numbers from the input string\n",
    "def extract_numbers(input_str):\n",
    "    pattern = r'(\\d+).*?(\\d+)'\n",
    "    match = re.match(pattern, input_str)\n",
    "\n",
    "    if match:\n",
    "        numbers = (int(match.group(1)), int(match.group(2)))\n",
    "        return numbers\n",
    "    else:\n",
    "        return None\n",
    "\n",
    "def extract_sequence_length(input_str):\n",
    "    pattern = r'Sequence length is: (\\d+)'\n",
    "    match = re.search(pattern, input_str)\n",
    "    if match:\n",
    "        sequence_length = int(match.group(1))\n",
    "        return sequence_length\n",
    "    else:\n",
    "        return None"
   ]
  },
  {
   "cell_type": "markdown",
   "metadata": {},
   "source": [
    "#### Final Output"
   ]
  },
  {
   "cell_type": "code",
   "execution_count": 70,
   "metadata": {},
   "outputs": [],
   "source": [
    "status = pd.read_csv(\"status_palindrome.csv\")\n",
    "master = pd.read_csv('CHM13_centric_transition.bed', sep = '\\t') # This is an example. Please change the path according to your needs"
   ]
  },
  {
   "cell_type": "code",
   "execution_count": 75,
   "metadata": {},
   "outputs": [
    {
     "data": {
      "text/html": [
       "<div>\n",
       "<style scoped>\n",
       "    .dataframe tbody tr th:only-of-type {\n",
       "        vertical-align: middle;\n",
       "    }\n",
       "\n",
       "    .dataframe tbody tr th {\n",
       "        vertical-align: top;\n",
       "    }\n",
       "\n",
       "    .dataframe thead th {\n",
       "        text-align: right;\n",
       "    }\n",
       "</style>\n",
       "<table border=\"1\" class=\"dataframe\">\n",
       "  <thead>\n",
       "    <tr style=\"text-align: right;\">\n",
       "      <th></th>\n",
       "      <th>chr</th>\n",
       "      <th>region</th>\n",
       "      <th>start</th>\n",
       "      <th>stop</th>\n",
       "      <th>ds_occupancy</th>\n",
       "      <th>ds_nucleotides</th>\n",
       "      <th>sequence_length</th>\n",
       "      <th>palindrome_count</th>\n",
       "    </tr>\n",
       "  </thead>\n",
       "  <tbody>\n",
       "    <tr>\n",
       "      <th>151</th>\n",
       "      <td>19</td>\n",
       "      <td>centric_transition</td>\n",
       "      <td>30396484</td>\n",
       "      <td>34768171</td>\n",
       "      <td></td>\n",
       "      <td></td>\n",
       "      <td></td>\n",
       "      <td></td>\n",
       "    </tr>\n",
       "    <tr>\n",
       "      <th>152</th>\n",
       "      <td>20</td>\n",
       "      <td>centric_transition</td>\n",
       "      <td>37114981</td>\n",
       "      <td>37969538</td>\n",
       "      <td></td>\n",
       "      <td></td>\n",
       "      <td></td>\n",
       "      <td></td>\n",
       "    </tr>\n",
       "    <tr>\n",
       "      <th>153</th>\n",
       "      <td>21</td>\n",
       "      <td>centric_transition</td>\n",
       "      <td>12418454</td>\n",
       "      <td>16341849</td>\n",
       "      <td></td>\n",
       "      <td></td>\n",
       "      <td></td>\n",
       "      <td></td>\n",
       "    </tr>\n",
       "    <tr>\n",
       "      <th>154</th>\n",
       "      <td>22</td>\n",
       "      <td>centric_transition</td>\n",
       "      <td>20037050</td>\n",
       "      <td>20711065</td>\n",
       "      <td></td>\n",
       "      <td></td>\n",
       "      <td></td>\n",
       "      <td></td>\n",
       "    </tr>\n",
       "    <tr>\n",
       "      <th>155</th>\n",
       "      <td>23</td>\n",
       "      <td>centric_transition</td>\n",
       "      <td>61247454</td>\n",
       "      <td>65927025</td>\n",
       "      <td></td>\n",
       "      <td></td>\n",
       "      <td></td>\n",
       "      <td></td>\n",
       "    </tr>\n",
       "  </tbody>\n",
       "</table>\n",
       "</div>"
      ],
      "text/plain": [
       "     chr              region     start      stop ds_occupancy ds_nucleotides  \\\n",
       "151   19  centric_transition  30396484  34768171                               \n",
       "152   20  centric_transition  37114981  37969538                               \n",
       "153   21  centric_transition  12418454  16341849                               \n",
       "154   22  centric_transition  20037050  20711065                               \n",
       "155   23  centric_transition  61247454  65927025                               \n",
       "\n",
       "    sequence_length palindrome_count  \n",
       "151                                   \n",
       "152                                   \n",
       "153                                   \n",
       "154                                   \n",
       "155                                   "
      ]
     },
     "execution_count": 75,
     "metadata": {},
     "output_type": "execute_result"
    }
   ],
   "source": [
    "master['ds_occupancy'] = ''\n",
    "master['ds_nucleotides'] = ''\n",
    "master['sequence_length'] = ''\n",
    "master['palindrome_count'] = ''"
   ]
  },
  {
   "cell_type": "code",
   "execution_count": null,
   "metadata": {},
   "outputs": [],
   "source": [
    "for ind in  range(0, len(status)):\n",
    "    filepath = f\"../output/{status['seq_id'][ind]}.palindrome\"\n",
    "    lines = []\n",
    "    with open(filepath, 'r') as file:\n",
    "        for line in file:\n",
    "            lines.append(line.strip())\n",
    "    \n",
    "    total_palindromes = int((len(lines)-3-12)/4)\n",
    "    sequence_length = extract_sequence_length(lines[1])\n",
    "\n",
    "    palrecords = []\n",
    "    for index in range(0,total_palindromes):\n",
    "        # print(lines[12+(4*index)])\n",
    "        palstr = lines[12+(4*index)]\n",
    "        palrecords.append(extract_numbers(palstr))\n",
    "        \n",
    "    bp_count = 0\n",
    "    for pal in palrecords:\n",
    "        bp_count = bp_count + (pal[1]-pal[0]+1) *2\n",
    "    \n",
    "    occupation_percent = bp_count/sequence_length\n",
    "    \n",
    "        \n",
    "    master['palindrome_count'][ind] = total_palindromes\n",
    "    master['ds_nucleotides'][ind] = bp_count\n",
    "    master['sequence_length'][ind] = sequence_length\n",
    "    master['ds_occupancy'][ind] = occupation_percent"
   ]
  },
  {
   "cell_type": "code",
   "execution_count": null,
   "metadata": {},
   "outputs": [],
   "source": [
    "master.to_csv(\"dyad_density.csv\", index = False)"
   ]
  }
 ],
 "metadata": {
  "kernelspec": {
   "display_name": "jev",
   "language": "python",
   "name": "python3"
  },
  "language_info": {
   "codemirror_mode": {
    "name": "ipython",
    "version": 3
   },
   "file_extension": ".py",
   "mimetype": "text/x-python",
   "name": "python",
   "nbconvert_exporter": "python",
   "pygments_lexer": "ipython3",
   "version": "3.11.5"
  }
 },
 "nbformat": 4,
 "nbformat_minor": 2
}
